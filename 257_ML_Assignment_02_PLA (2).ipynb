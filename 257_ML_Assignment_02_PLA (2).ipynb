{
 "cells": [
  {
   "cell_type": "code",
   "execution_count": 178,
   "metadata": {
    "collapsed": false
   },
   "outputs": [],
   "source": [
    "import numpy as np\n",
    "import pandas as pd\n",
    "import matplotlib.pyplot as plt\n",
    "%matplotlib inline"
   ]
  },
  {
   "cell_type": "code",
   "execution_count": 179,
   "metadata": {
    "collapsed": true
   },
   "outputs": [],
   "source": [
    "class Perceptron:\n",
    "    def __init__(self, l_rate = 0.1, n = 100):\n",
    "        self.n = n\n",
    "        self.l_rate = l_rate        \n",
    "    \n",
    "    def train(self,X,y):\n",
    "        self.weights = np.zeros(1+ X.shape[1])\n",
    "        self.errors_ = []\n",
    "        \n",
    "        for _ in range(self.n):\n",
    "            errors = 0\n",
    "            for xi, target in zip(X, y):\n",
    "                update = self.l_rate * (target - self.predict(xi))\n",
    "                self.weights[1:] += update * xi\n",
    "                self.weights[0] += update\n",
    "                \n",
    "                if update != 0:\n",
    "                    errors+=1\n",
    "                    \n",
    "            self.errors_.append(errors)\n",
    "        return self\n",
    "    \n",
    "    def net_input(self, X):\n",
    "        return np.dot(X, self.weights[1:]) + self.weights[0]\n",
    "    \n",
    "    def predict(self,X):\n",
    "        return np.where(self.net_input(X) >= 0.0, 1, -1)"
   ]
  },
  {
   "cell_type": "code",
   "execution_count": 180,
   "metadata": {
    "collapsed": false
   },
   "outputs": [
    {
     "data": {
      "text/plain": [
       "array([[ 5.1,  1.4],\n",
       "       [ 4.9,  1.4],\n",
       "       [ 4.7,  1.3],\n",
       "       [ 4.6,  1.5],\n",
       "       [ 5. ,  1.4],\n",
       "       [ 5.4,  1.7],\n",
       "       [ 4.6,  1.4],\n",
       "       [ 5. ,  1.5],\n",
       "       [ 4.4,  1.4],\n",
       "       [ 4.9,  1.5],\n",
       "       [ 5.4,  1.5],\n",
       "       [ 4.8,  1.6],\n",
       "       [ 4.8,  1.4],\n",
       "       [ 4.3,  1.1],\n",
       "       [ 5.8,  1.2],\n",
       "       [ 5.7,  1.5],\n",
       "       [ 5.4,  1.3],\n",
       "       [ 5.1,  1.4],\n",
       "       [ 5.7,  1.7],\n",
       "       [ 5.1,  1.5],\n",
       "       [ 5.4,  1.7],\n",
       "       [ 5.1,  1.5],\n",
       "       [ 4.6,  1. ],\n",
       "       [ 5.1,  1.7],\n",
       "       [ 4.8,  1.9],\n",
       "       [ 5. ,  1.6],\n",
       "       [ 5. ,  1.6],\n",
       "       [ 5.2,  1.5],\n",
       "       [ 5.2,  1.4],\n",
       "       [ 4.7,  1.6],\n",
       "       [ 4.8,  1.6],\n",
       "       [ 5.4,  1.5],\n",
       "       [ 5.2,  1.5],\n",
       "       [ 5.5,  1.4],\n",
       "       [ 4.9,  1.5],\n",
       "       [ 5. ,  1.2],\n",
       "       [ 5.5,  1.3],\n",
       "       [ 4.9,  1.5],\n",
       "       [ 4.4,  1.3],\n",
       "       [ 5.1,  1.5],\n",
       "       [ 5. ,  1.3],\n",
       "       [ 4.5,  1.3],\n",
       "       [ 4.4,  1.3],\n",
       "       [ 5. ,  1.6],\n",
       "       [ 5.1,  1.9],\n",
       "       [ 4.8,  1.4],\n",
       "       [ 5.1,  1.6],\n",
       "       [ 4.6,  1.4],\n",
       "       [ 5.3,  1.5],\n",
       "       [ 5. ,  1.4],\n",
       "       [ 7. ,  4.7],\n",
       "       [ 6.4,  4.5],\n",
       "       [ 6.9,  4.9],\n",
       "       [ 5.5,  4. ],\n",
       "       [ 6.5,  4.6],\n",
       "       [ 5.7,  4.5],\n",
       "       [ 6.3,  4.7],\n",
       "       [ 4.9,  3.3],\n",
       "       [ 6.6,  4.6],\n",
       "       [ 5.2,  3.9],\n",
       "       [ 5. ,  3.5],\n",
       "       [ 5.9,  4.2],\n",
       "       [ 6. ,  4. ],\n",
       "       [ 6.1,  4.7],\n",
       "       [ 5.6,  3.6],\n",
       "       [ 6.7,  4.4],\n",
       "       [ 5.6,  4.5],\n",
       "       [ 5.8,  4.1],\n",
       "       [ 6.2,  4.5],\n",
       "       [ 5.6,  3.9],\n",
       "       [ 5.9,  4.8],\n",
       "       [ 6.1,  4. ],\n",
       "       [ 6.3,  4.9],\n",
       "       [ 6.1,  4.7],\n",
       "       [ 6.4,  4.3],\n",
       "       [ 6.6,  4.4],\n",
       "       [ 6.8,  4.8],\n",
       "       [ 6.7,  5. ],\n",
       "       [ 6. ,  4.5],\n",
       "       [ 5.7,  3.5],\n",
       "       [ 5.5,  3.8],\n",
       "       [ 5.5,  3.7],\n",
       "       [ 5.8,  3.9],\n",
       "       [ 6. ,  5.1],\n",
       "       [ 5.4,  4.5],\n",
       "       [ 6. ,  4.5],\n",
       "       [ 6.7,  4.7],\n",
       "       [ 6.3,  4.4],\n",
       "       [ 5.6,  4.1],\n",
       "       [ 5.5,  4. ],\n",
       "       [ 5.5,  4.4],\n",
       "       [ 6.1,  4.6],\n",
       "       [ 5.8,  4. ],\n",
       "       [ 5. ,  3.3],\n",
       "       [ 5.6,  4.2],\n",
       "       [ 5.7,  4.2],\n",
       "       [ 5.7,  4.2],\n",
       "       [ 6.2,  4.3],\n",
       "       [ 5.1,  3. ],\n",
       "       [ 5.7,  4.1]])"
      ]
     },
     "execution_count": 180,
     "metadata": {},
     "output_type": "execute_result"
    }
   ],
   "source": [
    "link = \"https://archive.ics.uci.edu/ml/machine-learning-databases/iris/iris.data\"\n",
    "df = pd.read_csv(link, header = None)\n",
    "y = df.iloc[0:100,4].values\n",
    "\n",
    "negative_class = -1\n",
    "positive_class = 1\n",
    "\n",
    "condition = y == \"Iris-setosa\"\n",
    "\n",
    "y = np.where(condition, negative_class, positive_class)\n",
    "\n",
    "X = df.iloc[0:100, [0,2]].values\n",
    "X"
   ]
  },
  {
   "cell_type": "code",
   "execution_count": 181,
   "metadata": {
    "collapsed": false
   },
   "outputs": [
    {
     "data": {
      "text/plain": [
       "<matplotlib.text.Text at 0x22c140f77b8>"
      ]
     },
     "execution_count": 181,
     "metadata": {},
     "output_type": "execute_result"
    },
    {
     "data": {
      "image/png": "[encoded data removed]",
      "text/plain": [
       "<matplotlib.figure.Figure at 0x22c14100630>"
      ]
     },
     "metadata": {},
     "output_type": "display_data"
    }
   ],
   "source": [
    "p = Perceptron(l_rate = 0.1, n = 10)\n",
    "\n",
    "p.train(X,y)\n",
    "\n",
    "iterations = range(1,len(p.errors_) + 1)\n",
    "\n",
    "plt.plot(iterations, p.errors_, marker = \"o\")\n",
    "plt.xlabel(\"no of iterations\")\n",
    "plt.ylabel(\"no of errors\")"
   ]
  },
  {
   "cell_type": "code",
   "execution_count": 172,
   "metadata": {
    "collapsed": false
   },
   "outputs": [
    {
     "data": {
      "text/plain": [
       "array([-0.4 , -0.68,  1.82])"
      ]
     },
     "execution_count": 172,
     "metadata": {},
     "output_type": "execute_result"
    }
   ],
   "source": [
    "p.weights"
   ]
  },
  {
   "cell_type": "code",
   "execution_count": 188,
   "metadata": {
    "collapsed": true
   },
   "outputs": [],
   "source": [
    "def plot_classifier(X, y, classifier, resolution=0.02):\n",
    "\n",
    "    xx1, xx2 = np.meshgrid(np.arange(3,8, resolution), np.arange(0,6, resolution))\n",
    "    \n",
    "    Z = classifier.predict(np.array([xx1.ravel(), xx2.ravel()]).T).reshape(xx1.shape)\n",
    "    \n",
    "    plt.contourf(xx1, xx2, Z, alpha=0.4)\n",
    "    \n",
    "    #plot class samples\n",
    "    for idx, cl in enumerate(np.unique(y)):\n",
    "        plt.scatter(x=X[y==cl, 0], y=X[y==cl, 1], alpha=0.8) "
   ]
  },
  {
   "cell_type": "code",
   "execution_count": 189,
   "metadata": {
    "collapsed": false
   },
   "outputs": [
    {
     "data": {
      "text/plain": [
       "<matplotlib.collections.PathCollection at 0x22c14418f28>"
      ]
     },
     "execution_count": 189,
     "metadata": {},
     "output_type": "execute_result"
    },
    {
     "data": {
      "image/png": "[encoded data removed]",
      "text/plain": [
       "<matplotlib.figure.Figure at 0x22c141b1b70>"
      ]
     },
     "metadata": {},
     "output_type": "display_data"
    }
   ],
   "source": [
    "plot_classifier(X, y, p)\n",
    "X1 = df.iloc[0:50, [0,2]].values\n",
    "X2 = df.iloc[50:100, [0,2]].values\n",
    "plt.xlabel('sepal length')\n",
    "plt.ylabel('petal lenght')\n",
    "plt.scatter(X1[:,0],X1[:,1], color = \"blue\")\n",
    "plt.scatter(X2[:,0],X2[:,1], color = \"red\")"
   ]
  }
 ],
 "metadata": {
  "kernelspec": {
   "display_name": "Python 3",
   "language": "python",
   "name": "python3"
  },
  "language_info": {
   "codemirror_mode": {
    "name": "ipython",
    "version": 3
   },
   "file_extension": ".py",
   "mimetype": "text/x-python",
   "name": "python",
   "nbconvert_exporter": "python",
   "pygments_lexer": "ipython3",
   "version": "3.6.0"
  }
 },
 "nbformat": 4,
 "nbformat_minor": 2
}
